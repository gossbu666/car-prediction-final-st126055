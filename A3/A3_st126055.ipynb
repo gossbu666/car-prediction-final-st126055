{
 "cells": [
  {
   "cell_type": "markdown",
   "id": "209885c9",
   "metadata": {},
   "source": [
    "# A3: Car Price Prediction (Classification) with MLOps"
   ]
  },
  {
   "cell_type": "markdown",
   "id": "d9dd4cfb",
   "metadata": {},
   "source": [
    "- ID : st126055\n",
    "- Name : Supanut Kompayak"
   ]
  },
  {
   "cell_type": "markdown",
   "id": "82fc040c",
   "metadata": {},
   "source": [
    "#### Prepare data from(A1)"
   ]
  },
  {
   "cell_type": "code",
   "execution_count": 39,
   "id": "6d43fa78",
   "metadata": {},
   "outputs": [
    {
     "name": "stdout",
     "output_type": "stream",
     "text": [
      "✅ Phase 1 & 2: Initial data cleaning complete.\n",
      "✅ Data split complete. X_train shape: (6422, 11)\n",
      "✅ Pipeline fitted successfully on X_train.\n",
      "✅ X_train and X_test transformed.\n",
      "\n",
      "Original number of features: 11\n",
      "Shape of processed training data: (6422, 45)\n",
      "Shape of processed test data:  (1606, 45)\n"
     ]
    }
   ],
   "source": [
    "import pandas as pd\n",
    "import numpy as np\n",
    "import matplotlib.pyplot as plt\n",
    "from sklearn.model_selection import train_test_split\n",
    "from sklearn.compose import ColumnTransformer\n",
    "from sklearn.pipeline import Pipeline\n",
    "from sklearn.impute import SimpleImputer\n",
    "from sklearn.preprocessing import StandardScaler, OneHotEncoder\n",
    "\n",
    "# --- Phase 1 & 2: Load and Clean Data (Same as before) ---\n",
    "# This part remains the same because the pipeline needs the columns to be in a \n",
    "# mostly clean, numeric/string format first.\n",
    "df_raw = pd.read_csv('/ait/ML/car-prediction-final/A3/data/Cars.csv')\n",
    "df = df_raw.copy()\n",
    "df = df[~df['fuel'].isin(['CNG', 'LPG'])]\n",
    "owner_map = {\"First Owner\": 1, \"Second Owner\": 2, \"Third Owner\": 3, \"Fourth & Above Owner\": 4, \"Test Drive Car\": 5}\n",
    "df['owner'] = df['owner'].map(owner_map)\n",
    "df['mileage'] = pd.to_numeric(df['mileage'].str.split().str[0], errors='coerce')\n",
    "df['engine'] = pd.to_numeric(df['engine'].str.split().str[0], errors='coerce')\n",
    "df['max_power'] = pd.to_numeric(df['max_power'].str.split().str[0], errors='coerce')\n",
    "df['brand'] = df['name'].str.split().str[0]\n",
    "df = df.drop(columns=['torque'])\n",
    "df = df[df['owner'] != 5]\n",
    "df = df.reset_index(drop=True)\n",
    "\n",
    "print(\"✅ Phase 1 & 2: Initial data cleaning complete.\")\n",
    "\n",
    "\n",
    "# --- Phase 3: Prepare Data with the ColumnTransformer Pipeline ---\n",
    "\n",
    "# Step 3.1: Create the target variable\n",
    "# Using 'duplicates=drop' to handle potential issues with qcut if bin edges are not unique\n",
    "df['price_category'] = pd.qcut(df['selling_price'], q=4, labels=False, duplicates='drop')\n",
    "\n",
    "# Step 3.2: Define all features that the pipeline will use\n",
    "# These MUST match the columns listed in your preproc object\n",
    "cat_features = [\"fuel\", \"seller_type\", \"transmission\", \"brand\"]\n",
    "num_features = [\"engine\", \"max_power\", \"mileage\", \"seats\", \"year\", \"km_driven\", \"owner\"]\n",
    "all_features = cat_features + num_features\n",
    "\n",
    "X = df[all_features]\n",
    "y = df['price_category']\n",
    "\n",
    "# Step 3.3: Split data into training and testing sets FIRST\n",
    "X_train, X_test, y_train, y_test = train_test_split(\n",
    "    X, y, test_size=0.2, random_state=42, stratify=y\n",
    ")\n",
    "print(f\"✅ Data split complete. X_train shape: {X_train.shape}\")\n",
    "\n",
    "# Step 3.4: Define and Fit the Preprocessing Pipeline\n",
    "# This is the exact ColumnTransformer you provided\n",
    "preproc = ColumnTransformer([\n",
    "    (\"cat\", Pipeline([\n",
    "        (\"impute\", SimpleImputer(strategy=\"most_frequent\")),\n",
    "        (\"ohe\", OneHotEncoder(handle_unknown=\"ignore\", sparse_output=False)) # sparse_output=False is easier to inspect\n",
    "    ]), cat_features),\n",
    "    (\"num_median\", Pipeline([\n",
    "        (\"impute\", SimpleImputer(strategy=\"median\")),\n",
    "        (\"scale\", StandardScaler())\n",
    "    ]), [\"engine\", \"max_power\"]),\n",
    "    (\"num_mean\", Pipeline([\n",
    "        (\"impute\", SimpleImputer(strategy=\"mean\")),\n",
    "        (\"scale\", StandardScaler())\n",
    "    ]), [\"mileage\"]),\n",
    "    (\"num_mode\", Pipeline([\n",
    "        (\"impute\", SimpleImputer(strategy=\"most_frequent\")),\n",
    "        (\"scale\", StandardScaler())\n",
    "    ]), [\"seats\"]),\n",
    "    (\"num_pass\", Pipeline([\n",
    "        (\"scale\", StandardScaler())\n",
    "    ]), [\"year\", \"km_driven\", \"owner\"]),\n",
    "], remainder='passthrough') # 'passthrough' is good practice\n",
    "\n",
    "# FIT the pipeline ONLY on the training data\n",
    "preproc.fit(X_train)\n",
    "print(\"✅ Pipeline fitted successfully on X_train.\")\n",
    "\n",
    "# TRANSFORM both the training and test data\n",
    "X_train_processed = preproc.transform(X_train)\n",
    "X_test_processed = preproc.transform(X_test)\n",
    "print(\"✅ X_train and X_test transformed.\")\n",
    "\n",
    "# Let's check the result\n",
    "print(f\"\\nOriginal number of features: {X_train.shape[1]}\")\n",
    "print(f\"Shape of processed training data: {X_train_processed.shape}\")\n",
    "print(f\"Shape of processed test data:  {X_test_processed.shape}\")"
   ]
  },
  {
   "cell_type": "markdown",
   "id": "c8c638da",
   "metadata": {},
   "source": [
    "##### Data Preprocessing Summary\n",
    "\n",
    "This notebook prepares the car dataset for a classification model through the following steps:\n",
    "\n",
    "1.  **Initial Cleaning**: The raw data is loaded and cleaned. This involves converting text columns like `owner` to numbers, parsing numeric values from columns like `mileage` and `engine`, and removing irrelevant rows.\n",
    "\n",
    "2.  **Target Creation**: The regression problem is converted into a 4-class classification problem. The `selling_price` is binned into four categories using **`pd.qcut`** to create the `price_category` target variable.\n",
    "\n",
    "3.  **Data Splitting**: The dataset is split into 80% training and 20% testing sets. **`stratify=y`** is used to ensure the class distribution is the same in both splits.\n",
    "\n",
    "4.  **Preprocessing Pipeline**: A **`ColumnTransformer`** is defined to handle feature engineering consistently.\n",
    "    * **Categorical Features**: Missing values are imputed with the most frequent value, then one-hot encoded.\n",
    "    * **Numerical Features**: Missing values are imputed (using mean, median, or mode), and then all values are scaled using `StandardScaler`.\n",
    "\n",
    "5.  **Pipeline Application**: The pipeline is **fit only on the training data** to prevent data leakage. It is then used to **transform both the training and test sets**, resulting in datasets ready for modeling."
   ]
  },
  {
   "cell_type": "markdown",
   "id": "a5d9f9ee",
   "metadata": {},
   "source": [
    "#### Task 1. Classification"
   ]
  },
  {
   "cell_type": "markdown",
   "id": "ae5f1908",
   "metadata": {},
   "source": [
    "##### create classification report"
   ]
  },
  {
   "cell_type": "code",
   "execution_count": 21,
   "id": "ad0f681f",
   "metadata": {},
   "outputs": [],
   "source": [
    "import numpy as np\n",
    "from sklearn.metrics import classification_report\n",
    "\n",
    "def calculate_full_classification_report(y_true, y_pred):\n",
    "    \"\"\"\n",
    "    Calculates and prints a full classification report including\n",
    "    per-class, macro avg, and weighted avg metrics.\n",
    "    \"\"\"\n",
    "    print(\"--- From-Scratch Classification Report ---\")\n",
    "    y_true, y_pred = np.array(y_true), np.array(y_pred)\n",
    "    classes = sorted(np.unique(y_true))\n",
    "    \n",
    "    # --- Per-class metrics ---\n",
    "    per_class_precision = []\n",
    "    per_class_recall = []\n",
    "    per_class_f1 = []\n",
    "    per_class_support = []\n",
    "\n",
    "    for c in classes:\n",
    "        tp = np.sum((y_pred == c) & (y_true == c))\n",
    "        fp = np.sum((y_pred == c) & (y_true != c))\n",
    "        fn = np.sum((y_pred != c) & (y_true == c))\n",
    "        \n",
    "        precision = tp / (tp + fp) if (tp + fp) > 0 else 0.0\n",
    "        recall = tp / (tp + fn) if (tp + fn) > 0 else 0.0\n",
    "        f1 = 2 * (precision * recall) / (precision + recall) if (precision + recall) > 0 else 0.0\n",
    "        support = np.sum(y_true == c)\n",
    "        \n",
    "        per_class_precision.append(precision)\n",
    "        per_class_recall.append(recall)\n",
    "        per_class_f1.append(f1)\n",
    "        per_class_support.append(support)\n",
    "        \n",
    "        print(f\"Class {c}: P={precision:.2f}, R={recall:.2f}, F1={f1:.2f}, Support={support}\")\n",
    "\n",
    "    # --- Averages ---\n",
    "    total_samples = np.sum(per_class_support)\n",
    "    \n",
    "    # Macro averages (simple mean)\n",
    "    macro_avg_p = np.mean(per_class_precision)\n",
    "    macro_avg_r = np.mean(per_class_recall)\n",
    "    macro_avg_f1 = np.mean(per_class_f1)\n",
    "    \n",
    "    # Weighted averages\n",
    "    weighted_avg_p = np.sum(np.array(per_class_precision) * np.array(per_class_support)) / total_samples\n",
    "    weighted_avg_r = np.sum(np.array(per_class_recall) * np.array(per_class_support)) / total_samples\n",
    "    weighted_avg_f1 = np.sum(np.array(per_class_f1) * np.array(per_class_support)) / total_samples\n",
    "    \n",
    "    # Overall accuracy\n",
    "    accuracy = np.sum(y_true == y_pred) / total_samples\n",
    "\n",
    "    print(\"-\" * 40)\n",
    "    print(f\"Accuracy: {accuracy:.4f}\")\n",
    "    print(f\"Macro Avg: P={macro_avg_p:.2f}, R={macro_avg_r:.2f}, F1={macro_avg_f1:.2f}\")\n",
    "    print(f\"Weighted Avg: P={weighted_avg_p:.2f}, R={weighted_avg_r:.2f}, F1={weighted_avg_f1:.2f}\")\n",
    "    print(\"-\" * 40)\n"
   ]
  },
  {
   "cell_type": "markdown",
   "id": "7da277b2",
   "metadata": {},
   "source": [
    "##### model create (logistic regression)"
   ]
  },
  {
   "cell_type": "code",
   "execution_count": null,
   "id": "528e6b89",
   "metadata": {},
   "outputs": [
    {
     "name": "stdout",
     "output_type": "stream",
     "text": [
      "\n",
      "--- Evaluating our from-scratch model ---\n",
      "--- From-Scratch Classification Report ---\n",
      "Class 0: P=0.88, R=0.85, F1=0.86, Support=410\n",
      "Class 1: P=0.68, R=0.72, F1=0.70, Support=409\n",
      "Class 2: P=0.64, R=0.68, F1=0.66, Support=389\n",
      "Class 3: P=0.87, R=0.78, F1=0.83, Support=398\n",
      "----------------------------------------\n",
      "Accuracy: 0.7590\n",
      "Macro Avg: P=0.77, R=0.76, F1=0.76\n",
      "Weighted Avg: P=0.77, R=0.76, F1=0.76\n",
      "----------------------------------------\n"
     ]
    }
   ],
   "source": [
    "import numpy as np\n",
    "\n",
    "class LogisticRegression:\n",
    "    \"\"\"\n",
    "    A from-scratch implementation of Multinomial Logistic Regression \n",
    "    using batch gradient descent.\n",
    "    \"\"\"\n",
    "    def __init__(self, learning_rate=0.1, n_iterations=1000):\n",
    "        # Step 1: Initialize hyperparameters\n",
    "        self.learning_rate = learning_rate\n",
    "        self.n_iterations = n_iterations\n",
    "        self.weights = None\n",
    "        self.bias = None\n",
    "        self.loss_history = []\n",
    "\n",
    "    def _one_hot(self, y, n_classes):\n",
    "        # Step 2: Convert target labels to one-hot encoding\n",
    "        # e.g., for 4 classes, label '2' becomes [0, 0, 1, 0]\n",
    "        ohe = np.zeros((len(y), n_classes))\n",
    "        ohe[np.arange(len(y)), y] = 1\n",
    "        return ohe\n",
    "\n",
    "    def softmax(self, z):\n",
    "        # Step 3: Implement the softmax function\n",
    "        # The subtraction of max(z) is a trick for numerical stability\n",
    "        exp_z = np.exp(z - np.max(z, axis=1, keepdims=True))\n",
    "        return exp_z / np.sum(exp_z, axis=1, keepdims=True)\n",
    "\n",
    "    def fit(self, X, y):\n",
    "        # Step 4: The training method (Gradient Descent)\n",
    "        n_samples, n_features = X.shape\n",
    "        n_classes = len(np.unique(y))\n",
    "        \n",
    "        # Initialize weights and bias to zeros\n",
    "        self.weights = np.zeros((n_features, n_classes))\n",
    "        self.bias = np.zeros(n_classes)\n",
    "        \n",
    "        # Convert y to one-hot format for loss calculation\n",
    "        y_ohe = self._one_hot(y, n_classes)\n",
    "        \n",
    "        # Main training loop\n",
    "        for i in range(self.n_iterations):\n",
    "            # 1. Calculate raw model scores (logits)\n",
    "            z = X @ self.weights + self.bias\n",
    "            \n",
    "            # 2. Convert scores to probabilities (forward pass)\n",
    "            y_hat = self.softmax(z)\n",
    "            \n",
    "            # 3. Calculate the gradient\n",
    "            # This is the key formula from the lecture/notebook\n",
    "            gradient = (1 / n_samples) * (X.T @ (y_hat - y_ohe))\n",
    "            \n",
    "            # 4. Update the weights\n",
    "            self.weights -= self.learning_rate * gradient\n",
    "            \n",
    "            # (Optional) We could add a step to calculate and store the loss here\n",
    "            if (i % 100 == 0):\n",
    "                loss = -np.mean(np.sum(y_ohe * np.log(y_hat + 1e-8), axis=1))\n",
    "                print(f\"Iteration {i}, Loss: {loss:.4f}\")\n",
    "\n",
    "    def predict(self, X):\n",
    "        # Step 5: The prediction method\n",
    "        z = X @ self.weights + self.bias\n",
    "        y_hat = self.softmax(z)\n",
    "        \n",
    "        # Return the class with the highest probability\n",
    "        return np.argmax(y_hat, axis=1)\n",
    "\n",
    "\n",
    "# --- How to use it with our data ---\n",
    "\n",
    "# 1. Instantiate the model\n",
    "# Remember X_train_processed and y_train from our data prep step\n",
    "model = LogisticRegression(learning_rate=0.1, n_iterations=500)\n",
    "\n",
    "# 2. Train the model\n",
    "# NOTE: The 'y_train' must be a NumPy array for this to work correctly\n",
    "model.fit(X_train_processed, y_train.to_numpy())\n",
    "\n",
    "# 3. Make predictions on the test set\n",
    "predictions = model.predict(X_test_processed)\n",
    "\n",
    "# 4. Evaluate the predictions\n",
    "# We can use the metrics function we wrote earlier!\n",
    "print(\"\\n--- Evaluating our from-scratch model ---\")\n",
    "calculate_full_classification_report(y_test.to_numpy(), predictions)"
   ]
  },
  {
   "cell_type": "markdown",
   "id": "ddf704be",
   "metadata": {},
   "source": [
    "- test model with dummy "
   ]
  },
  {
   "cell_type": "code",
   "execution_count": 55,
   "id": "7e972a63",
   "metadata": {},
   "outputs": [
    {
     "name": "stdout",
     "output_type": "stream",
     "text": [
      "--- My From-Scratch Report ---\n",
      "--- From-Scratch Classification Report ---\n",
      "Class 0: P=0.80, R=1.00, F1=0.89, Support=4\n",
      "Class 1: P=0.50, R=0.33, F1=0.40, Support=3\n",
      "Class 2: P=0.50, R=0.50, F1=0.50, Support=2\n",
      "Class 3: P=1.00, R=1.00, F1=1.00, Support=2\n",
      "----------------------------------------\n",
      "Accuracy: 0.7273\n",
      "Macro Avg: P=0.70, R=0.71, F1=0.70\n",
      "Weighted Avg: P=0.70, R=0.73, F1=0.71\n",
      "----------------------------------------\n",
      "\n",
      "==================================================\n",
      "\n",
      "--- Scikit-learn's Report ---\n",
      "              precision    recall  f1-score   support\n",
      "\n",
      "           0       0.80      1.00      0.89         4\n",
      "           1       0.50      0.33      0.40         3\n",
      "           2       0.50      0.50      0.50         2\n",
      "           3       1.00      1.00      1.00         2\n",
      "\n",
      "    accuracy                           0.73        11\n",
      "   macro avg       0.70      0.71      0.70        11\n",
      "weighted avg       0.70      0.73      0.71        11\n",
      "\n"
     ]
    }
   ],
   "source": [
    "# --- Mockup Data Example ---\n",
    "y_true_mock = [0, 1, 2, 3, 0, 1, 2, 3, 0, 1, 0]\n",
    "y_pred_mock = [0, 2, 2, 3, 0, 1, 1, 3, 0, 0, 0]\n",
    "\n",
    "# 1. Run your from-scratch function\n",
    "print(\"--- My From-Scratch Report ---\")\n",
    "calculate_full_classification_report(y_true_mock, y_pred_mock)\n",
    "\n",
    "print(\"\\n\" + \"=\"*50 + \"\\n\") # Separator\n",
    "\n",
    "# 2. Run the scikit-learn function for comparison\n",
    "from sklearn.metrics import classification_report\n",
    "print(\"--- Scikit-learn's Report ---\")\n",
    "print(classification_report(y_true_mock, y_pred_mock))"
   ]
  },
  {
   "cell_type": "markdown",
   "id": "d3d55c01",
   "metadata": {},
   "source": [
    "##### Validation of Custom Classification Metrics\n",
    "\n",
    "To verify the correctness of the from-scratch implementation, the results were compared against Scikit-learn's `classification_report`, a standard industry tool. The output shows that the custom-built metrics are working correctly.\n",
    "\n",
    "* **Per-Class Metrics**: For each class (0, 1, 2, and 3), the calculated **precision, recall, and f1-score** from the from-scratch implementation are identical to the values produced by Scikit-learn.\n",
    "\n",
    "* **Overall Accuracy**: The overall accuracy is consistent, with the from-scratch implementation reporting `0.7273` and Scikit-learn showing `0.73` (a minor difference due to rounding).\n",
    "\n",
    "* **Averaged Metrics**: Both the **macro average** and **weighted average** metrics are a perfect match between the two reports. This confirms that the averaging logic for both methods was implemented correctly.\n",
    "\n",
    "This successful comparison confirms that the custom metric functions meet the assignment requirements and produce reliable results."
   ]
  },
  {
   "cell_type": "markdown",
   "id": "9c22d758",
   "metadata": {},
   "source": [
    "##### Task 1: Validation and Conceptual Questions (Answer)\n",
    "\n",
    "#### Comparison with Scikit-learn\n",
    "\n",
    "To validate our from-scratch metrics function, we compare its output directly against the standard `sklearn.metrics.classification_report`. We use the same set of mockup true labels and predictions for both functions to ensure a fair comparison.\n",
    "\n",
    "**Analysis:**\n",
    "The output from the code cell above shows that the calculated values for per-class **precision**, **recall**, **f1-score**, as well as the **macro average** and **weighted average** from our custom `calculate_full_classification_report` function are identical to those produced by scikit-learn. This comparison validates the correctness of our from-scratch implementation.\n",
    "\n",
    "---\n",
    "\n",
    "#### Definition of \"Support\"\n",
    "\n",
    "In the context of a classification report, **support** refers to the **number of actual occurrences of a class in the true dataset** (`y_true`).\n",
    "\n",
    "It is a crucial metric because it provides context for the performance scores. A high F1-score is more reliable for a class with a large support (many samples) than for a class with very small support. It helps us understand the trustworthiness of the metrics for each class and is a quick way to identify class imbalance."
   ]
  },
  {
   "cell_type": "markdown",
   "id": "7ac276d9",
   "metadata": {},
   "source": [
    "#### Task 2 add Ridge "
   ]
  },
  {
   "cell_type": "code",
   "execution_count": 56,
   "id": "528205c7",
   "metadata": {},
   "outputs": [],
   "source": [
    "# --- FINAL UPGRADED LogisticRegression Class (More Robust) ---\n",
    "import numpy as np\n",
    "\n",
    "class LogisticRegression:\n",
    "    def __init__(self, learning_rate=0.1, n_iterations=100, lmbda=0.01, batch_size=32):\n",
    "        self.learning_rate = learning_rate\n",
    "        self.n_iterations = n_iterations\n",
    "        self.lmbda = lmbda\n",
    "        self.batch_size = batch_size\n",
    "        self.weights = None\n",
    "        self.loss_history = []\n",
    "        self.classes_ = None\n",
    "\n",
    "    def _one_hot(self, y):\n",
    "        # --- ✅ THE FINAL FIX IS HERE ---\n",
    "        # We make the function robust by ensuring y is always at least a 1D array.\n",
    "        # This prevents the \"not iterable\" error.\n",
    "        y = np.atleast_1d(y)\n",
    "        \n",
    "        ohe = np.zeros((len(y), len(self.classes_)))\n",
    "        for i, c in enumerate(self.classes_):\n",
    "            ohe[y == c, i] = 1\n",
    "        return ohe\n",
    "\n",
    "    def _softmax(self, z):\n",
    "        exp_z = np.exp(z - np.max(z, axis=1, keepdims=True))\n",
    "        return exp_z / np.sum(exp_z, axis=1, keepdims=True)\n",
    "\n",
    "    def fit(self, X, y):\n",
    "        n_samples, n_features = X.shape\n",
    "        self.classes_ = np.unique(y)\n",
    "        n_classes = len(self.classes_)\n",
    "\n",
    "        X_b = np.c_[np.ones((n_samples, 1)), X]\n",
    "        self.weights = np.zeros((n_features + 1, n_classes))\n",
    "\n",
    "        y_ohe = self._one_hot(y)\n",
    "\n",
    "        for i in range(self.n_iterations):\n",
    "            shuffled_indices = np.random.permutation(n_samples)\n",
    "            X_b_shuffled = X_b[shuffled_indices]\n",
    "            y_ohe_shuffled = y_ohe[shuffled_indices]\n",
    "\n",
    "            for j in range(0, n_samples, self.batch_size):\n",
    "                X_batch = X_b_shuffled[j:j+self.batch_size]\n",
    "                y_batch = y_ohe_shuffled[j:j+self.batch_size]\n",
    "\n",
    "                z = X_batch @ self.weights\n",
    "                y_hat = self._softmax(z)\n",
    "\n",
    "                gradient = (1 / self.batch_size) * (X_batch.T @ (y_hat - y_batch))\n",
    "                reg_term = (self.lmbda / self.batch_size) * self.weights\n",
    "                reg_term[0, :] = 0 # Do not regularize the bias term\n",
    "                gradient += reg_term\n",
    "\n",
    "                self.weights -= self.learning_rate * gradient\n",
    "\n",
    "            if (i % 10 == 0):\n",
    "                full_z = X_b @ self.weights\n",
    "                full_y_hat = self._softmax(full_z)\n",
    "                loss = -np.mean(np.sum(y_ohe * np.log(full_y_hat + 1e-8), axis=1))\n",
    "                reg_loss = (self.lmbda / (2 * n_samples)) * np.sum(np.square(self.weights[1:, :]))\n",
    "                total_loss = loss + reg_loss\n",
    "                self.loss_history.append(total_loss)\n",
    "\n",
    "    def predict_proba(self, X):\n",
    "        X_b = np.c_[np.ones((X.shape[0], 1)), X]\n",
    "        z = X_b @ self.weights\n",
    "        return self._softmax(z)\n",
    "\n",
    "    def predict(self, X):\n",
    "        probabilities = self.predict_proba(X)\n",
    "        return self.classes_[np.argmax(probabilities, axis=1)]"
   ]
  },
  {
   "cell_type": "markdown",
   "id": "8a752065",
   "metadata": {},
   "source": [
    "##### Check Loss "
   ]
  },
  {
   "cell_type": "code",
   "execution_count": 57,
   "id": "8c9d27ac",
   "metadata": {},
   "outputs": [
    {
     "data": {
      "image/png": "[encoded data removed]",
      "text/plain": [
       "<Figure size 800x500 with 1 Axes>"
      ]
     },
     "metadata": {},
     "output_type": "display_data"
    },
    {
     "name": "stdout",
     "output_type": "stream",
     "text": [
      "\n",
      "--- Final Model Performance ---\n",
      "--- From-Scratch Classification Report ---\n",
      "Class 0: P=0.88, R=0.84, F1=0.86, Support=410\n",
      "Class 1: P=0.68, R=0.73, F1=0.71, Support=409\n",
      "Class 2: P=0.65, R=0.66, F1=0.65, Support=389\n",
      "Class 3: P=0.84, R=0.81, F1=0.82, Support=398\n",
      "----------------------------------------\n",
      "Accuracy: 0.7609\n",
      "Macro Avg: P=0.76, R=0.76, F1=0.76\n",
      "Weighted Avg: P=0.77, R=0.76, F1=0.76\n",
      "----------------------------------------\n"
     ]
    }
   ],
   "source": [
    "# 1. Instantiate the model with desired hyperparameters\n",
    "model = LogisticRegression(\n",
    "    learning_rate=0.1, \n",
    "    n_iterations=51,  # Number of epochs\n",
    "    lmbda=0.01,       # Regularization strength\n",
    "    batch_size=64     # Mini-batch size\n",
    ")\n",
    "\n",
    "# 2. Train the model (it will print the loss at the end of each epoch)\n",
    "# Note: y_train must be a NumPy array\n",
    "model.fit(X_train_processed, y_train.to_numpy())\n",
    "\n",
    "# 3. Plot the loss history to diagnose training\n",
    "plt.figure(figsize=(8, 5))\n",
    "plt.plot(model.loss_history)\n",
    "plt.title(\"Model Loss per Epoch\")\n",
    "plt.xlabel(\"Epoch\")\n",
    "plt.ylabel(\"Loss\")\n",
    "plt.grid(True)\n",
    "plt.show()\n",
    "\n",
    "# 4. Make predictions and evaluate\n",
    "predictions = model.predict(X_test_processed)\n",
    "print(\"\\n--- Final Model Performance ---\")\n",
    "calculate_full_classification_report(y_test.to_numpy(), predictions)"
   ]
  },
  {
   "cell_type": "markdown",
   "id": "1dfd5933",
   "metadata": {},
   "source": [
    "##### Model Training and Performance Summary\n",
    "\n",
    "This section details the training process and the final performance of the Ridge Logistic Regression model.\n",
    "\n",
    "* **Training Process**: The model was trained for 50 epochs. The training loss showed a consistent and healthy decrease, starting at `0.8512` and steadily converging to `0.5942`. This downward trend indicates that the model was successfully learning from the data.\n",
    "\n",
    "* **Final Performance**: The model achieved a final **accuracy of 76.09%** on the test set.\n",
    "    * The **macro and weighted F1-scores are both 0.76**, suggesting a balanced and solid performance across all four classes.\n",
    "    * Performance on individual classes was strong, particularly for Class 0 (F1=0.86) and Class 3 (F1=0.82). The model was slightly less predictive for Class 2 (F1=0.64).\n",
    "\n",
    "Overall, the model demonstrates effective learning and achieves a good predictive performance on the classification task."
   ]
  },
  {
   "cell_type": "markdown",
   "id": "4e979079",
   "metadata": {},
   "source": [
    "##### Test before to push in MLFLOW"
   ]
  },
  {
   "cell_type": "code",
   "execution_count": 7,
   "id": "17add7a2",
   "metadata": {},
   "outputs": [
    {
     "name": "stdout",
     "output_type": "stream",
     "text": [
      "--- Starting Random Search (testing 8 random combinations) ---\n",
      "\n",
      "(1/8) Training with random params: {'lr': 0.05, 'lmbda': 1.0, 'batch_size': 64}\n",
      "Epoch 0, Loss: 0.9394\n",
      "Epoch 10, Loss: 0.7512\n",
      "Epoch 20, Loss: 0.7376\n",
      "Epoch 30, Loss: 0.7349\n",
      "Epoch 40, Loss: 0.7341\n",
      "Epoch 50, Loss: 0.7341\n",
      "Epoch 60, Loss: 0.7341\n",
      "Epoch 70, Loss: 0.7337\n",
      "Epoch 80, Loss: 0.7338\n",
      "Epoch 90, Loss: 0.7343\n",
      "Epoch 100, Loss: 0.7337\n",
      "-> Weighted F1-Score: 0.7160\n",
      "\n",
      "(2/8) Training with random params: {'lr': 0.1, 'lmbda': 1.0, 'batch_size': 32}\n",
      "Epoch 0, Loss: 0.8316\n",
      "Epoch 10, Loss: 0.7943\n",
      "Epoch 20, Loss: 0.7934\n",
      "Epoch 30, Loss: 0.7932\n",
      "Epoch 40, Loss: 0.7957\n",
      "Epoch 50, Loss: 0.7932\n",
      "Epoch 60, Loss: 0.7931\n",
      "Epoch 70, Loss: 0.7933\n",
      "Epoch 80, Loss: 0.7938\n",
      "Epoch 90, Loss: 0.7967\n",
      "Epoch 100, Loss: 0.7943\n",
      "-> Weighted F1-Score: 0.6673\n",
      "\n",
      "(3/8) Training with random params: {'lr': 0.1, 'lmbda': 0.1, 'batch_size': 32}\n",
      "Epoch 0, Loss: 0.7863\n",
      "Epoch 10, Loss: 0.6455\n",
      "Epoch 20, Loss: 0.6365\n",
      "Epoch 30, Loss: 0.6334\n",
      "Epoch 40, Loss: 0.6348\n",
      "Epoch 50, Loss: 0.6334\n",
      "Epoch 60, Loss: 0.6338\n",
      "Epoch 70, Loss: 0.6329\n",
      "Epoch 80, Loss: 0.6334\n",
      "Epoch 90, Loss: 0.6343\n",
      "Epoch 100, Loss: 0.6349\n",
      "-> Weighted F1-Score: 0.7487\n",
      "\n",
      "(4/8) Training with random params: {'lr': 0.05, 'lmbda': 0.01, 'batch_size': 64}\n",
      "Epoch 0, Loss: 0.9313\n",
      "Epoch 10, Loss: 0.6940\n",
      "Epoch 20, Loss: 0.6520\n",
      "Epoch 30, Loss: 0.6320\n",
      "Epoch 40, Loss: 0.6199\n",
      "Epoch 50, Loss: 0.6122\n",
      "Epoch 60, Loss: 0.6061\n",
      "Epoch 70, Loss: 0.6020\n",
      "Epoch 80, Loss: 0.5983\n",
      "Epoch 90, Loss: 0.5957\n",
      "Epoch 100, Loss: 0.5935\n",
      "-> Weighted F1-Score: 0.7549\n",
      "\n",
      "(5/8) Training with random params: {'lr': 0.05, 'lmbda': 0.1, 'batch_size': 32}\n",
      "Epoch 0, Loss: 0.8537\n",
      "Epoch 10, Loss: 0.6680\n",
      "Epoch 20, Loss: 0.6461\n",
      "Epoch 30, Loss: 0.6384\n",
      "Epoch 40, Loss: 0.6359\n",
      "Epoch 50, Loss: 0.6339\n",
      "Epoch 60, Loss: 0.6334\n",
      "Epoch 70, Loss: 0.6327\n",
      "Epoch 80, Loss: 0.6329\n",
      "Epoch 90, Loss: 0.6330\n",
      "Epoch 100, Loss: 0.6325\n",
      "-> Weighted F1-Score: 0.7538\n",
      "\n",
      "(6/8) Training with random params: {'lr': 0.05, 'lmbda': 0.1, 'batch_size': 32}\n",
      "Epoch 0, Loss: 0.8550\n",
      "Epoch 10, Loss: 0.6683\n",
      "Epoch 20, Loss: 0.6459\n",
      "Epoch 30, Loss: 0.6404\n",
      "Epoch 40, Loss: 0.6352\n",
      "Epoch 50, Loss: 0.6339\n",
      "Epoch 60, Loss: 0.6341\n",
      "Epoch 70, Loss: 0.6335\n",
      "Epoch 80, Loss: 0.6329\n",
      "Epoch 90, Loss: 0.6326\n",
      "Epoch 100, Loss: 0.6326\n",
      "-> Weighted F1-Score: 0.7588\n",
      "\n",
      "(7/8) Training with random params: {'lr': 0.05, 'lmbda': 0.01, 'batch_size': 32}\n",
      "Epoch 0, Loss: 0.8531\n",
      "Epoch 10, Loss: 0.6507\n",
      "Epoch 20, Loss: 0.6208\n",
      "Epoch 30, Loss: 0.6076\n",
      "Epoch 40, Loss: 0.6007\n",
      "Epoch 50, Loss: 0.5964\n",
      "Epoch 60, Loss: 0.5925\n",
      "Epoch 70, Loss: 0.5906\n",
      "Epoch 80, Loss: 0.5883\n",
      "Epoch 90, Loss: 0.5877\n",
      "Epoch 100, Loss: 0.5870\n",
      "-> Weighted F1-Score: 0.7588\n",
      "\n",
      "(8/8) Training with random params: {'lr': 0.01, 'lmbda': 0.1, 'batch_size': 32}\n",
      "Epoch 0, Loss: 1.0558\n",
      "Epoch 10, Loss: 0.7763\n",
      "Epoch 20, Loss: 0.7238\n",
      "Epoch 30, Loss: 0.6978\n",
      "Epoch 40, Loss: 0.6818\n",
      "Epoch 50, Loss: 0.6710\n",
      "Epoch 60, Loss: 0.6632\n",
      "Epoch 70, Loss: 0.6574\n",
      "Epoch 80, Loss: 0.6530\n",
      "Epoch 90, Loss: 0.6494\n",
      "Epoch 100, Loss: 0.6466\n",
      "-> Weighted F1-Score: 0.7394\n",
      "\n",
      "--- Random Search Complete in 2.42 seconds ---\n",
      "🏆 Best Weighted F1-Score: 0.7588\n",
      "🚀 Best Hyperparameters: {'lr': 0.05, 'lmbda': 0.1, 'batch_size': 32}\n"
     ]
    }
   ],
   "source": [
    "from sklearn.metrics import f1_score\n",
    "import time\n",
    "import random\n",
    "\n",
    "# 1. Define the same expanded grid of possibilities\n",
    "param_grid_expanded = {\n",
    "    'learning_rate': [0.1, 0.05, 0.01],\n",
    "    'lmbda': [0.001, 0.01, 0.1, 1.0],\n",
    "    'batch_size': [32, 64]\n",
    "}\n",
    "\n",
    "# 2. Set the number of random combinations you want to try\n",
    "# We'll try 8 random models instead of all 24.\n",
    "n_iter = 8\n",
    "\n",
    "# 3. Prepare to track the best results\n",
    "best_score = -1\n",
    "best_params = {}\n",
    "results = []\n",
    "\n",
    "print(f\"--- Starting Random Search (testing {n_iter} random combinations) ---\")\n",
    "start_time = time.time()\n",
    "\n",
    "# 4. Loop for a fixed number of iterations\n",
    "for i in range(n_iter):\n",
    "    \n",
    "    # --- Pick a RANDOM value for each hyperparameter ---\n",
    "    lr = random.choice(param_grid_expanded['learning_rate'])\n",
    "    lmbda = random.choice(param_grid_expanded['lmbda'])\n",
    "    bs = random.choice(param_grid_expanded['batch_size'])\n",
    "    \n",
    "    current_params = {'lr': lr, 'lmbda': lmbda, 'batch_size': bs}\n",
    "    print(f\"\\n({i+1}/{n_iter}) Training with random params: {current_params}\")\n",
    "    \n",
    "    # Instantiate and train the model\n",
    "    model = LogisticRegression(\n",
    "        learning_rate=lr,\n",
    "        n_iterations=101,\n",
    "        lmbda=lmbda,\n",
    "        batch_size=bs\n",
    "    )\n",
    "    model.fit(X_train_processed, y_train.to_numpy())\n",
    "    \n",
    "    # Evaluate the model\n",
    "    predictions = model.predict(X_test_processed)\n",
    "    score = f1_score(y_test, predictions, average='weighted')\n",
    "    \n",
    "    print(f\"-> Weighted F1-Score: {score:.4f}\")\n",
    "    results.append({'params': current_params, 'score': score})\n",
    "    \n",
    "    # Check if this is the best model so far\n",
    "    if score > best_score:\n",
    "        best_score = score\n",
    "        best_params = current_params\n",
    "\n",
    "end_time = time.time()\n",
    "print(f\"\\n--- Random Search Complete in {end_time - start_time:.2f} seconds ---\")\n",
    "print(f\"🏆 Best Weighted F1-Score: {best_score:.4f}\")\n",
    "print(f\"🚀 Best Hyperparameters: {best_params}\")"
   ]
  },
  {
   "cell_type": "markdown",
   "id": "a8429904",
   "metadata": {},
   "source": [
    "##### MLFLOW collection model "
   ]
  },
  {
   "cell_type": "code",
   "execution_count": null,
   "id": "0667a3d0",
   "metadata": {},
   "outputs": [
    {
     "name": "stdout",
     "output_type": "stream",
     "text": [
      "--- Starting GRID Search: Logging all 48 runs to MLflow ---\n",
      "\n",
      "(1/48) Logging run: 'run_1_lr=0.1_lambda=0.001_bs=1'\n",
      "-> Accuracy: 0.6743, Precision: 0.7339, Recall: 0.6743, F1: 0.6720\n"
     ]
    },
    {
     "name": "stderr",
     "output_type": "stream",
     "text": [
      "2025/10/04 12:24:05 WARNING mlflow.models.model: `artifact_path` is deprecated. Please use `name` instead.\n",
      "\u001b[31m2025/10/04 12:24:08 WARNING mlflow.models.model: Model logged without a signature and input example. Please set `input_example` parameter when logging the model to auto infer the model signature.\u001b[0m\n"
     ]
    },
    {
     "name": "stdout",
     "output_type": "stream",
     "text": [
      "🏃 View run run_1_lr=0.1_lambda=0.001_bs=1 at: http://mlflow.ml.brain.cs.ait.ac.th/#/experiments/962603110232627547/runs/fb73c90657334c509e7c2e3371fd3a3e\n",
      "🧪 View experiment at: http://mlflow.ml.brain.cs.ait.ac.th/#/experiments/962603110232627547\n",
      "\n",
      "(2/48) Logging run: 'run_2_lr=0.1_lambda=0.001_bs=32'\n",
      "-> Accuracy: 0.7497, Precision: 0.7546, Recall: 0.7497, F1: 0.7517\n"
     ]
    },
    {
     "name": "stderr",
     "output_type": "stream",
     "text": [
      "2025/10/04 12:25:17 WARNING mlflow.models.model: `artifact_path` is deprecated. Please use `name` instead.\n",
      "\u001b[31m2025/10/04 12:25:20 WARNING mlflow.models.model: Model logged without a signature and input example. Please set `input_example` parameter when logging the model to auto infer the model signature.\u001b[0m\n"
     ]
    },
    {
     "name": "stdout",
     "output_type": "stream",
     "text": [
      "🏃 View run run_2_lr=0.1_lambda=0.001_bs=32 at: http://mlflow.ml.brain.cs.ait.ac.th/#/experiments/962603110232627547/runs/8d6c54097a6e4c359dc3e0f15ede8b32\n",
      "🧪 View experiment at: http://mlflow.ml.brain.cs.ait.ac.th/#/experiments/962603110232627547\n",
      "\n",
      "(3/48) Logging run: 'run_3_lr=0.1_lambda=0.001_bs=64'\n",
      "-> Accuracy: 0.7603, Precision: 0.7648, Recall: 0.7603, F1: 0.7620\n"
     ]
    },
    {
     "name": "stderr",
     "output_type": "stream",
     "text": [
      "2025/10/04 12:26:27 WARNING mlflow.models.model: `artifact_path` is deprecated. Please use `name` instead.\n",
      "\u001b[31m2025/10/04 12:26:31 WARNING mlflow.models.model: Model logged without a signature and input example. Please set `input_example` parameter when logging the model to auto infer the model signature.\u001b[0m\n"
     ]
    },
    {
     "name": "stdout",
     "output_type": "stream",
     "text": [
      "🏃 View run run_3_lr=0.1_lambda=0.001_bs=64 at: http://mlflow.ml.brain.cs.ait.ac.th/#/experiments/962603110232627547/runs/4a0beefd5ee64c468b4de4c6ee2c5bd8\n",
      "🧪 View experiment at: http://mlflow.ml.brain.cs.ait.ac.th/#/experiments/962603110232627547\n",
      "\n",
      "(4/48) Logging run: 'run_4_lr=0.1_lambda=0.001_bs=128'\n",
      "-> Accuracy: 0.7584, Precision: 0.7620, Recall: 0.7584, F1: 0.7599\n"
     ]
    },
    {
     "name": "stderr",
     "output_type": "stream",
     "text": [
      "2025/10/04 12:27:39 WARNING mlflow.models.model: `artifact_path` is deprecated. Please use `name` instead.\n",
      "\u001b[31m2025/10/04 12:27:42 WARNING mlflow.models.model: Model logged without a signature and input example. Please set `input_example` parameter when logging the model to auto infer the model signature.\u001b[0m\n"
     ]
    },
    {
     "name": "stdout",
     "output_type": "stream",
     "text": [
      "🏃 View run run_4_lr=0.1_lambda=0.001_bs=128 at: http://mlflow.ml.brain.cs.ait.ac.th/#/experiments/962603110232627547/runs/a8af9fecdef64b5d8e3a48eda230b8b5\n",
      "🧪 View experiment at: http://mlflow.ml.brain.cs.ait.ac.th/#/experiments/962603110232627547\n",
      "\n",
      "(5/48) Logging run: 'run_5_lr=0.1_lambda=0.01_bs=1'\n",
      "-> Accuracy: 0.6488, Precision: 0.6641, Recall: 0.6488, F1: 0.6514\n"
     ]
    },
    {
     "name": "stderr",
     "output_type": "stream",
     "text": [
      "2025/10/04 12:28:58 WARNING mlflow.models.model: `artifact_path` is deprecated. Please use `name` instead.\n",
      "\u001b[31m2025/10/04 12:29:01 WARNING mlflow.models.model: Model logged without a signature and input example. Please set `input_example` parameter when logging the model to auto infer the model signature.\u001b[0m\n"
     ]
    },
    {
     "name": "stdout",
     "output_type": "stream",
     "text": [
      "🏃 View run run_5_lr=0.1_lambda=0.01_bs=1 at: http://mlflow.ml.brain.cs.ait.ac.th/#/experiments/962603110232627547/runs/f4edfd7d981c408bb4bf1990e13a862c\n",
      "🧪 View experiment at: http://mlflow.ml.brain.cs.ait.ac.th/#/experiments/962603110232627547\n",
      "\n",
      "(6/48) Logging run: 'run_6_lr=0.1_lambda=0.01_bs=32'\n",
      "-> Accuracy: 0.7628, Precision: 0.7640, Recall: 0.7628, F1: 0.7627\n"
     ]
    },
    {
     "name": "stderr",
     "output_type": "stream",
     "text": [
      "2025/10/04 12:30:09 WARNING mlflow.models.model: `artifact_path` is deprecated. Please use `name` instead.\n",
      "\u001b[31m2025/10/04 12:30:12 WARNING mlflow.models.model: Model logged without a signature and input example. Please set `input_example` parameter when logging the model to auto infer the model signature.\u001b[0m\n"
     ]
    },
    {
     "name": "stdout",
     "output_type": "stream",
     "text": [
      "🏃 View run run_6_lr=0.1_lambda=0.01_bs=32 at: http://mlflow.ml.brain.cs.ait.ac.th/#/experiments/962603110232627547/runs/525929b151244cfbaf3e30492321e5e6\n",
      "🧪 View experiment at: http://mlflow.ml.brain.cs.ait.ac.th/#/experiments/962603110232627547\n",
      "\n",
      "(7/48) Logging run: 'run_7_lr=0.1_lambda=0.01_bs=64'\n",
      "-> Accuracy: 0.7603, Precision: 0.7630, Recall: 0.7603, F1: 0.7614\n"
     ]
    },
    {
     "name": "stderr",
     "output_type": "stream",
     "text": [
      "2025/10/04 12:31:20 WARNING mlflow.models.model: `artifact_path` is deprecated. Please use `name` instead.\n",
      "\u001b[31m2025/10/04 12:31:23 WARNING mlflow.models.model: Model logged without a signature and input example. Please set `input_example` parameter when logging the model to auto infer the model signature.\u001b[0m\n"
     ]
    },
    {
     "name": "stdout",
     "output_type": "stream",
     "text": [
      "🏃 View run run_7_lr=0.1_lambda=0.01_bs=64 at: http://mlflow.ml.brain.cs.ait.ac.th/#/experiments/962603110232627547/runs/33c693224aeb47f793e4549b5409cb31\n",
      "🧪 View experiment at: http://mlflow.ml.brain.cs.ait.ac.th/#/experiments/962603110232627547\n",
      "\n",
      "(8/48) Logging run: 'run_8_lr=0.1_lambda=0.01_bs=128'\n",
      "-> Accuracy: 0.7534, Precision: 0.7570, Recall: 0.7534, F1: 0.7550\n"
     ]
    },
    {
     "name": "stderr",
     "output_type": "stream",
     "text": [
      "2025/10/04 12:32:36 WARNING mlflow.models.model: `artifact_path` is deprecated. Please use `name` instead.\n",
      "\u001b[31m2025/10/04 12:32:39 WARNING mlflow.models.model: Model logged without a signature and input example. Please set `input_example` parameter when logging the model to auto infer the model signature.\u001b[0m\n"
     ]
    },
    {
     "name": "stdout",
     "output_type": "stream",
     "text": [
      "🏃 View run run_8_lr=0.1_lambda=0.01_bs=128 at: http://mlflow.ml.brain.cs.ait.ac.th/#/experiments/962603110232627547/runs/dd50d64fe7af42208b4a0c0db619a471\n",
      "🧪 View experiment at: http://mlflow.ml.brain.cs.ait.ac.th/#/experiments/962603110232627547\n",
      "\n",
      "(9/48) Logging run: 'run_9_lr=0.1_lambda=0.1_bs=1'\n",
      "-> Accuracy: 0.5262, Precision: 0.5506, Recall: 0.5262, F1: 0.5010\n"
     ]
    },
    {
     "name": "stderr",
     "output_type": "stream",
     "text": [
      "2025/10/04 12:33:56 WARNING mlflow.models.model: `artifact_path` is deprecated. Please use `name` instead.\n",
      "\u001b[31m2025/10/04 12:33:59 WARNING mlflow.models.model: Model logged without a signature and input example. Please set `input_example` parameter when logging the model to auto infer the model signature.\u001b[0m\n"
     ]
    },
    {
     "name": "stdout",
     "output_type": "stream",
     "text": [
      "🏃 View run run_9_lr=0.1_lambda=0.1_bs=1 at: http://mlflow.ml.brain.cs.ait.ac.th/#/experiments/962603110232627547/runs/d6870d596fc64fa496cff1c55b46aa34\n",
      "🧪 View experiment at: http://mlflow.ml.brain.cs.ait.ac.th/#/experiments/962603110232627547\n",
      "\n",
      "(10/48) Logging run: 'run_10_lr=0.1_lambda=0.1_bs=32'\n",
      "-> Accuracy: 0.7447, Precision: 0.7467, Recall: 0.7447, F1: 0.7456\n"
     ]
    },
    {
     "name": "stderr",
     "output_type": "stream",
     "text": [
      "2025/10/04 12:35:07 WARNING mlflow.models.model: `artifact_path` is deprecated. Please use `name` instead.\n",
      "\u001b[31m2025/10/04 12:35:10 WARNING mlflow.models.model: Model logged without a signature and input example. Please set `input_example` parameter when logging the model to auto infer the model signature.\u001b[0m\n"
     ]
    },
    {
     "name": "stdout",
     "output_type": "stream",
     "text": [
      "🏃 View run run_10_lr=0.1_lambda=0.1_bs=32 at: http://mlflow.ml.brain.cs.ait.ac.th/#/experiments/962603110232627547/runs/a98452e482944831a2dd21e63776faf1\n",
      "🧪 View experiment at: http://mlflow.ml.brain.cs.ait.ac.th/#/experiments/962603110232627547\n",
      "\n",
      "(11/48) Logging run: 'run_11_lr=0.1_lambda=0.1_bs=64'\n",
      "-> Accuracy: 0.7528, Precision: 0.7573, Recall: 0.7528, F1: 0.7547\n"
     ]
    },
    {
     "name": "stderr",
     "output_type": "stream",
     "text": [
      "2025/10/04 12:36:18 WARNING mlflow.models.model: `artifact_path` is deprecated. Please use `name` instead.\n",
      "\u001b[31m2025/10/04 12:36:22 WARNING mlflow.models.model: Model logged without a signature and input example. Please set `input_example` parameter when logging the model to auto infer the model signature.\u001b[0m\n"
     ]
    },
    {
     "name": "stdout",
     "output_type": "stream",
     "text": [
      "🏃 View run run_11_lr=0.1_lambda=0.1_bs=64 at: http://mlflow.ml.brain.cs.ait.ac.th/#/experiments/962603110232627547/runs/ecb385c4b8ba4395a2f35ff8c151fb4b\n",
      "🧪 View experiment at: http://mlflow.ml.brain.cs.ait.ac.th/#/experiments/962603110232627547\n",
      "\n",
      "(12/48) Logging run: 'run_12_lr=0.1_lambda=0.1_bs=128'\n",
      "-> Accuracy: 0.7565, Precision: 0.7588, Recall: 0.7565, F1: 0.7575\n"
     ]
    },
    {
     "name": "stderr",
     "output_type": "stream",
     "text": [
      "2025/10/04 12:37:31 WARNING mlflow.models.model: `artifact_path` is deprecated. Please use `name` instead.\n",
      "\u001b[31m2025/10/04 12:37:34 WARNING mlflow.models.model: Model logged without a signature and input example. Please set `input_example` parameter when logging the model to auto infer the model signature.\u001b[0m\n"
     ]
    },
    {
     "name": "stdout",
     "output_type": "stream",
     "text": [
      "🏃 View run run_12_lr=0.1_lambda=0.1_bs=128 at: http://mlflow.ml.brain.cs.ait.ac.th/#/experiments/962603110232627547/runs/b4fad985d1ea467c9e5124b061688523\n",
      "🧪 View experiment at: http://mlflow.ml.brain.cs.ait.ac.th/#/experiments/962603110232627547\n",
      "\n",
      "(13/48) Logging run: 'run_13_lr=0.1_lambda=1.0_bs=1'\n",
      "-> Accuracy: 0.4888, Precision: 0.3878, Recall: 0.4888, F1: 0.4114\n"
     ]
    },
    {
     "name": "stderr",
     "output_type": "stream",
     "text": [
      "2025/10/04 12:38:53 WARNING mlflow.models.model: `artifact_path` is deprecated. Please use `name` instead.\n",
      "\u001b[31m2025/10/04 12:38:56 WARNING mlflow.models.model: Model logged without a signature and input example. Please set `input_example` parameter when logging the model to auto infer the model signature.\u001b[0m\n"
     ]
    },
    {
     "name": "stdout",
     "output_type": "stream",
     "text": [
      "🏃 View run run_13_lr=0.1_lambda=1.0_bs=1 at: http://mlflow.ml.brain.cs.ait.ac.th/#/experiments/962603110232627547/runs/62488f3da83245e8a6cd2eeff7af199b\n",
      "🧪 View experiment at: http://mlflow.ml.brain.cs.ait.ac.th/#/experiments/962603110232627547\n",
      "\n",
      "(14/48) Logging run: 'run_14_lr=0.1_lambda=1.0_bs=32'\n",
      "-> Accuracy: 0.7080, Precision: 0.7109, Recall: 0.7080, F1: 0.7085\n"
     ]
    },
    {
     "name": "stderr",
     "output_type": "stream",
     "text": [
      "2025/10/04 12:40:05 WARNING mlflow.models.model: `artifact_path` is deprecated. Please use `name` instead.\n",
      "\u001b[31m2025/10/04 12:40:08 WARNING mlflow.models.model: Model logged without a signature and input example. Please set `input_example` parameter when logging the model to auto infer the model signature.\u001b[0m\n"
     ]
    },
    {
     "name": "stdout",
     "output_type": "stream",
     "text": [
      "🏃 View run run_14_lr=0.1_lambda=1.0_bs=32 at: http://mlflow.ml.brain.cs.ait.ac.th/#/experiments/962603110232627547/runs/47bd1aeb63a7468db28e72ac543adaee\n",
      "🧪 View experiment at: http://mlflow.ml.brain.cs.ait.ac.th/#/experiments/962603110232627547\n",
      "\n",
      "(15/48) Logging run: 'run_15_lr=0.1_lambda=1.0_bs=64'\n",
      "-> Accuracy: 0.7260, Precision: 0.7375, Recall: 0.7260, F1: 0.7282\n"
     ]
    },
    {
     "name": "stderr",
     "output_type": "stream",
     "text": [
      "2025/10/04 12:41:17 WARNING mlflow.models.model: `artifact_path` is deprecated. Please use `name` instead.\n",
      "\u001b[31m2025/10/04 12:41:20 WARNING mlflow.models.model: Model logged without a signature and input example. Please set `input_example` parameter when logging the model to auto infer the model signature.\u001b[0m\n"
     ]
    },
    {
     "name": "stdout",
     "output_type": "stream",
     "text": [
      "🏃 View run run_15_lr=0.1_lambda=1.0_bs=64 at: http://mlflow.ml.brain.cs.ait.ac.th/#/experiments/962603110232627547/runs/1b9eea2fa7a942e6a331a76a3661ae88\n",
      "🧪 View experiment at: http://mlflow.ml.brain.cs.ait.ac.th/#/experiments/962603110232627547\n",
      "\n",
      "(16/48) Logging run: 'run_16_lr=0.1_lambda=1.0_bs=128'\n",
      "-> Accuracy: 0.7416, Precision: 0.7482, Recall: 0.7416, F1: 0.7434\n"
     ]
    },
    {
     "name": "stderr",
     "output_type": "stream",
     "text": [
      "2025/10/04 12:42:31 WARNING mlflow.models.model: `artifact_path` is deprecated. Please use `name` instead.\n",
      "\u001b[31m2025/10/04 12:42:34 WARNING mlflow.models.model: Model logged without a signature and input example. Please set `input_example` parameter when logging the model to auto infer the model signature.\u001b[0m\n"
     ]
    },
    {
     "name": "stdout",
     "output_type": "stream",
     "text": [
      "🏃 View run run_16_lr=0.1_lambda=1.0_bs=128 at: http://mlflow.ml.brain.cs.ait.ac.th/#/experiments/962603110232627547/runs/bcb710ccdad14255957ae7987758abc0\n",
      "🧪 View experiment at: http://mlflow.ml.brain.cs.ait.ac.th/#/experiments/962603110232627547\n",
      "\n",
      "(17/48) Logging run: 'run_17_lr=0.05_lambda=0.001_bs=1'\n",
      "-> Accuracy: 0.7167, Precision: 0.7317, Recall: 0.7167, F1: 0.7148\n"
     ]
    },
    {
     "name": "stderr",
     "output_type": "stream",
     "text": [
      "2025/10/04 12:43:51 WARNING mlflow.models.model: `artifact_path` is deprecated. Please use `name` instead.\n",
      "\u001b[31m2025/10/04 12:43:54 WARNING mlflow.models.model: Model logged without a signature and input example. Please set `input_example` parameter when logging the model to auto infer the model signature.\u001b[0m\n"
     ]
    },
    {
     "name": "stdout",
     "output_type": "stream",
     "text": [
      "🏃 View run run_17_lr=0.05_lambda=0.001_bs=1 at: http://mlflow.ml.brain.cs.ait.ac.th/#/experiments/962603110232627547/runs/2f561a43b8774890a745d3eff30e8ec1\n",
      "🧪 View experiment at: http://mlflow.ml.brain.cs.ait.ac.th/#/experiments/962603110232627547\n",
      "\n",
      "(18/48) Logging run: 'run_18_lr=0.05_lambda=0.001_bs=32'\n",
      "-> Accuracy: 0.7503, Precision: 0.7547, Recall: 0.7503, F1: 0.7521\n"
     ]
    },
    {
     "name": "stderr",
     "output_type": "stream",
     "text": [
      "2025/10/04 12:45:06 WARNING mlflow.models.model: `artifact_path` is deprecated. Please use `name` instead.\n",
      "\u001b[31m2025/10/04 12:45:09 WARNING mlflow.models.model: Model logged without a signature and input example. Please set `input_example` parameter when logging the model to auto infer the model signature.\u001b[0m\n"
     ]
    },
    {
     "name": "stdout",
     "output_type": "stream",
     "text": [
      "🏃 View run run_18_lr=0.05_lambda=0.001_bs=32 at: http://mlflow.ml.brain.cs.ait.ac.th/#/experiments/962603110232627547/runs/91edb4232a7a4ffd84890082a654a956\n",
      "🧪 View experiment at: http://mlflow.ml.brain.cs.ait.ac.th/#/experiments/962603110232627547\n",
      "\n",
      "(19/48) Logging run: 'run_19_lr=0.05_lambda=0.001_bs=64'\n",
      "-> Accuracy: 0.7559, Precision: 0.7597, Recall: 0.7559, F1: 0.7575\n"
     ]
    },
    {
     "name": "stderr",
     "output_type": "stream",
     "text": [
      "2025/10/04 12:46:20 WARNING mlflow.models.model: `artifact_path` is deprecated. Please use `name` instead.\n",
      "\u001b[31m2025/10/04 12:46:23 WARNING mlflow.models.model: Model logged without a signature and input example. Please set `input_example` parameter when logging the model to auto infer the model signature.\u001b[0m\n"
     ]
    },
    {
     "name": "stdout",
     "output_type": "stream",
     "text": [
      "🏃 View run run_19_lr=0.05_lambda=0.001_bs=64 at: http://mlflow.ml.brain.cs.ait.ac.th/#/experiments/962603110232627547/runs/fd201e3db9824d3185e705f625075dc7\n",
      "🧪 View experiment at: http://mlflow.ml.brain.cs.ait.ac.th/#/experiments/962603110232627547\n",
      "\n",
      "(20/48) Logging run: 'run_20_lr=0.05_lambda=0.001_bs=128'\n",
      "-> Accuracy: 0.7478, Precision: 0.7528, Recall: 0.7478, F1: 0.7498\n"
     ]
    },
    {
     "name": "stderr",
     "output_type": "stream",
     "text": [
      "2025/10/04 12:47:32 WARNING mlflow.models.model: `artifact_path` is deprecated. Please use `name` instead.\n",
      "\u001b[31m2025/10/04 12:47:35 WARNING mlflow.models.model: Model logged without a signature and input example. Please set `input_example` parameter when logging the model to auto infer the model signature.\u001b[0m\n"
     ]
    },
    {
     "name": "stdout",
     "output_type": "stream",
     "text": [
      "🏃 View run run_20_lr=0.05_lambda=0.001_bs=128 at: http://mlflow.ml.brain.cs.ait.ac.th/#/experiments/962603110232627547/runs/99449bc467534effb43fc53457569fe0\n",
      "🧪 View experiment at: http://mlflow.ml.brain.cs.ait.ac.th/#/experiments/962603110232627547\n",
      "\n",
      "(21/48) Logging run: 'run_21_lr=0.05_lambda=0.01_bs=1'\n",
      "-> Accuracy: 0.6694, Precision: 0.6707, Recall: 0.6694, F1: 0.6515\n"
     ]
    },
    {
     "name": "stderr",
     "output_type": "stream",
     "text": [
      "2025/10/04 12:49:01 WARNING mlflow.models.model: `artifact_path` is deprecated. Please use `name` instead.\n",
      "\u001b[31m2025/10/04 12:49:04 WARNING mlflow.models.model: Model logged without a signature and input example. Please set `input_example` parameter when logging the model to auto infer the model signature.\u001b[0m\n"
     ]
    },
    {
     "name": "stdout",
     "output_type": "stream",
     "text": [
      "🏃 View run run_21_lr=0.05_lambda=0.01_bs=1 at: http://mlflow.ml.brain.cs.ait.ac.th/#/experiments/962603110232627547/runs/584fb885c2f942cda85cdae311924853\n",
      "🧪 View experiment at: http://mlflow.ml.brain.cs.ait.ac.th/#/experiments/962603110232627547\n",
      "\n",
      "(22/48) Logging run: 'run_22_lr=0.05_lambda=0.01_bs=32'\n",
      "-> Accuracy: 0.7522, Precision: 0.7547, Recall: 0.7522, F1: 0.7529\n"
     ]
    },
    {
     "name": "stderr",
     "output_type": "stream",
     "text": [
      "2025/10/04 12:50:19 WARNING mlflow.models.model: `artifact_path` is deprecated. Please use `name` instead.\n",
      "\u001b[31m2025/10/04 12:50:22 WARNING mlflow.models.model: Model logged without a signature and input example. Please set `input_example` parameter when logging the model to auto infer the model signature.\u001b[0m\n"
     ]
    },
    {
     "name": "stdout",
     "output_type": "stream",
     "text": [
      "🏃 View run run_22_lr=0.05_lambda=0.01_bs=32 at: http://mlflow.ml.brain.cs.ait.ac.th/#/experiments/962603110232627547/runs/df477fa9aa6444b79ebcac8ed3b355bf\n",
      "🧪 View experiment at: http://mlflow.ml.brain.cs.ait.ac.th/#/experiments/962603110232627547\n",
      "\n",
      "(23/48) Logging run: 'run_23_lr=0.05_lambda=0.01_bs=64'\n",
      "-> Accuracy: 0.7540, Precision: 0.7579, Recall: 0.7540, F1: 0.7557\n"
     ]
    },
    {
     "name": "stderr",
     "output_type": "stream",
     "text": [
      "2025/10/04 12:51:38 WARNING mlflow.models.model: `artifact_path` is deprecated. Please use `name` instead.\n",
      "\u001b[31m2025/10/04 12:51:41 WARNING mlflow.models.model: Model logged without a signature and input example. Please set `input_example` parameter when logging the model to auto infer the model signature.\u001b[0m\n"
     ]
    },
    {
     "name": "stdout",
     "output_type": "stream",
     "text": [
      "🏃 View run run_23_lr=0.05_lambda=0.01_bs=64 at: http://mlflow.ml.brain.cs.ait.ac.th/#/experiments/962603110232627547/runs/8749773639d54de4b36109616f9bc72d\n",
      "🧪 View experiment at: http://mlflow.ml.brain.cs.ait.ac.th/#/experiments/962603110232627547\n",
      "\n",
      "(24/48) Logging run: 'run_24_lr=0.05_lambda=0.01_bs=128'\n",
      "-> Accuracy: 0.7565, Precision: 0.7600, Recall: 0.7565, F1: 0.7580\n"
     ]
    },
    {
     "name": "stderr",
     "output_type": "stream",
     "text": [
      "2025/10/04 12:52:48 WARNING mlflow.models.model: `artifact_path` is deprecated. Please use `name` instead.\n",
      "\u001b[31m2025/10/04 12:52:52 WARNING mlflow.models.model: Model logged without a signature and input example. Please set `input_example` parameter when logging the model to auto infer the model signature.\u001b[0m\n"
     ]
    },
    {
     "name": "stdout",
     "output_type": "stream",
     "text": [
      "🏃 View run run_24_lr=0.05_lambda=0.01_bs=128 at: http://mlflow.ml.brain.cs.ait.ac.th/#/experiments/962603110232627547/runs/4fece43f856a4530a38e956d1e77f7f9\n",
      "🧪 View experiment at: http://mlflow.ml.brain.cs.ait.ac.th/#/experiments/962603110232627547\n",
      "\n",
      "(25/48) Logging run: 'run_25_lr=0.05_lambda=0.1_bs=1'\n",
      "-> Accuracy: 0.5934, Precision: 0.5835, Recall: 0.5934, F1: 0.5796\n"
     ]
    },
    {
     "name": "stderr",
     "output_type": "stream",
     "text": [
      "2025/10/04 12:54:11 WARNING mlflow.models.model: `artifact_path` is deprecated. Please use `name` instead.\n",
      "\u001b[31m2025/10/04 12:54:14 WARNING mlflow.models.model: Model logged without a signature and input example. Please set `input_example` parameter when logging the model to auto infer the model signature.\u001b[0m\n"
     ]
    },
    {
     "name": "stdout",
     "output_type": "stream",
     "text": [
      "🏃 View run run_25_lr=0.05_lambda=0.1_bs=1 at: http://mlflow.ml.brain.cs.ait.ac.th/#/experiments/962603110232627547/runs/f336c8a4f20b4a64836484c8b7fc6086\n",
      "🧪 View experiment at: http://mlflow.ml.brain.cs.ait.ac.th/#/experiments/962603110232627547\n",
      "\n",
      "(26/48) Logging run: 'run_26_lr=0.05_lambda=0.1_bs=32'\n",
      "-> Accuracy: 0.7491, Precision: 0.7515, Recall: 0.7491, F1: 0.7501\n"
     ]
    },
    {
     "name": "stderr",
     "output_type": "stream",
     "text": [
      "2025/10/04 12:55:24 WARNING mlflow.models.model: `artifact_path` is deprecated. Please use `name` instead.\n",
      "\u001b[31m2025/10/04 12:55:27 WARNING mlflow.models.model: Model logged without a signature and input example. Please set `input_example` parameter when logging the model to auto infer the model signature.\u001b[0m\n"
     ]
    },
    {
     "name": "stdout",
     "output_type": "stream",
     "text": [
      "🏃 View run run_26_lr=0.05_lambda=0.1_bs=32 at: http://mlflow.ml.brain.cs.ait.ac.th/#/experiments/962603110232627547/runs/eae5fa0373054cd8949248c21177e1f9\n",
      "🧪 View experiment at: http://mlflow.ml.brain.cs.ait.ac.th/#/experiments/962603110232627547\n",
      "\n",
      "(27/48) Logging run: 'run_27_lr=0.05_lambda=0.1_bs=64'\n",
      "-> Accuracy: 0.7578, Precision: 0.7610, Recall: 0.7578, F1: 0.7590\n"
     ]
    },
    {
     "name": "stderr",
     "output_type": "stream",
     "text": [
      "2025/10/04 12:56:33 WARNING mlflow.models.model: `artifact_path` is deprecated. Please use `name` instead.\n",
      "\u001b[31m2025/10/04 12:56:36 WARNING mlflow.models.model: Model logged without a signature and input example. Please set `input_example` parameter when logging the model to auto infer the model signature.\u001b[0m\n"
     ]
    },
    {
     "name": "stdout",
     "output_type": "stream",
     "text": [
      "🏃 View run run_27_lr=0.05_lambda=0.1_bs=64 at: http://mlflow.ml.brain.cs.ait.ac.th/#/experiments/962603110232627547/runs/fb395bde11724062bccd691a130b15b3\n",
      "🧪 View experiment at: http://mlflow.ml.brain.cs.ait.ac.th/#/experiments/962603110232627547\n",
      "\n",
      "(28/48) Logging run: 'run_28_lr=0.05_lambda=0.1_bs=128'\n",
      "-> Accuracy: 0.7565, Precision: 0.7605, Recall: 0.7565, F1: 0.7580\n"
     ]
    },
    {
     "name": "stderr",
     "output_type": "stream",
     "text": [
      "2025/10/04 12:57:44 WARNING mlflow.models.model: `artifact_path` is deprecated. Please use `name` instead.\n",
      "\u001b[31m2025/10/04 12:57:47 WARNING mlflow.models.model: Model logged without a signature and input example. Please set `input_example` parameter when logging the model to auto infer the model signature.\u001b[0m\n"
     ]
    },
    {
     "name": "stdout",
     "output_type": "stream",
     "text": [
      "🏃 View run run_28_lr=0.05_lambda=0.1_bs=128 at: http://mlflow.ml.brain.cs.ait.ac.th/#/experiments/962603110232627547/runs/84d80f61092f4d198057f70f66d3aba9\n",
      "🧪 View experiment at: http://mlflow.ml.brain.cs.ait.ac.th/#/experiments/962603110232627547\n",
      "\n",
      "(29/48) Logging run: 'run_29_lr=0.05_lambda=1.0_bs=1'\n",
      "-> Accuracy: 0.5274, Precision: 0.5071, Recall: 0.5274, F1: 0.4765\n"
     ]
    },
    {
     "name": "stderr",
     "output_type": "stream",
     "text": [
      "2025/10/04 12:59:03 WARNING mlflow.models.model: `artifact_path` is deprecated. Please use `name` instead.\n",
      "\u001b[31m2025/10/04 12:59:06 WARNING mlflow.models.model: Model logged without a signature and input example. Please set `input_example` parameter when logging the model to auto infer the model signature.\u001b[0m\n"
     ]
    },
    {
     "name": "stdout",
     "output_type": "stream",
     "text": [
      "🏃 View run run_29_lr=0.05_lambda=1.0_bs=1 at: http://mlflow.ml.brain.cs.ait.ac.th/#/experiments/962603110232627547/runs/e7a3a1ab57db440b87e19c082e0fdf11\n",
      "🧪 View experiment at: http://mlflow.ml.brain.cs.ait.ac.th/#/experiments/962603110232627547\n",
      "\n",
      "(30/48) Logging run: 'run_30_lr=0.05_lambda=1.0_bs=32'\n",
      "-> Accuracy: 0.7142, Precision: 0.7128, Recall: 0.7142, F1: 0.7135\n"
     ]
    },
    {
     "name": "stderr",
     "output_type": "stream",
     "text": [
      "2025/10/04 13:00:13 WARNING mlflow.models.model: `artifact_path` is deprecated. Please use `name` instead.\n",
      "\u001b[31m2025/10/04 13:00:16 WARNING mlflow.models.model: Model logged without a signature and input example. Please set `input_example` parameter when logging the model to auto infer the model signature.\u001b[0m\n"
     ]
    },
    {
     "name": "stdout",
     "output_type": "stream",
     "text": [
      "🏃 View run run_30_lr=0.05_lambda=1.0_bs=32 at: http://mlflow.ml.brain.cs.ait.ac.th/#/experiments/962603110232627547/runs/6ea4a8f694b24309972f80d4668a9d0f\n",
      "🧪 View experiment at: http://mlflow.ml.brain.cs.ait.ac.th/#/experiments/962603110232627547\n",
      "\n",
      "(31/48) Logging run: 'run_31_lr=0.05_lambda=1.0_bs=64'\n",
      "-> Accuracy: 0.7360, Precision: 0.7399, Recall: 0.7360, F1: 0.7366\n"
     ]
    },
    {
     "name": "stderr",
     "output_type": "stream",
     "text": [
      "2025/10/04 13:01:24 WARNING mlflow.models.model: `artifact_path` is deprecated. Please use `name` instead.\n",
      "\u001b[31m2025/10/04 13:01:27 WARNING mlflow.models.model: Model logged without a signature and input example. Please set `input_example` parameter when logging the model to auto infer the model signature.\u001b[0m\n"
     ]
    },
    {
     "name": "stdout",
     "output_type": "stream",
     "text": [
      "🏃 View run run_31_lr=0.05_lambda=1.0_bs=64 at: http://mlflow.ml.brain.cs.ait.ac.th/#/experiments/962603110232627547/runs/e6645b4c65da4601a7492397ff5d04d8\n",
      "🧪 View experiment at: http://mlflow.ml.brain.cs.ait.ac.th/#/experiments/962603110232627547\n",
      "\n",
      "(32/48) Logging run: 'run_32_lr=0.05_lambda=1.0_bs=128'\n",
      "-> Accuracy: 0.7422, Precision: 0.7433, Recall: 0.7422, F1: 0.7427\n"
     ]
    },
    {
     "name": "stderr",
     "output_type": "stream",
     "text": [
      "2025/10/04 13:02:32 WARNING mlflow.models.model: `artifact_path` is deprecated. Please use `name` instead.\n",
      "\u001b[31m2025/10/04 13:02:35 WARNING mlflow.models.model: Model logged without a signature and input example. Please set `input_example` parameter when logging the model to auto infer the model signature.\u001b[0m\n"
     ]
    },
    {
     "name": "stdout",
     "output_type": "stream",
     "text": [
      "🏃 View run run_32_lr=0.05_lambda=1.0_bs=128 at: http://mlflow.ml.brain.cs.ait.ac.th/#/experiments/962603110232627547/runs/9edc9e279ca348da992276f8bf739370\n",
      "🧪 View experiment at: http://mlflow.ml.brain.cs.ait.ac.th/#/experiments/962603110232627547\n",
      "\n",
      "(33/48) Logging run: 'run_33_lr=0.01_lambda=0.001_bs=1'\n",
      "-> Accuracy: 0.7603, Precision: 0.7620, Recall: 0.7603, F1: 0.7606\n"
     ]
    },
    {
     "name": "stderr",
     "output_type": "stream",
     "text": [
      "2025/10/04 13:03:51 WARNING mlflow.models.model: `artifact_path` is deprecated. Please use `name` instead.\n",
      "\u001b[31m2025/10/04 13:03:54 WARNING mlflow.models.model: Model logged without a signature and input example. Please set `input_example` parameter when logging the model to auto infer the model signature.\u001b[0m\n"
     ]
    },
    {
     "name": "stdout",
     "output_type": "stream",
     "text": [
      "🏃 View run run_33_lr=0.01_lambda=0.001_bs=1 at: http://mlflow.ml.brain.cs.ait.ac.th/#/experiments/962603110232627547/runs/abe19670b12049b38702318b7330e90a\n",
      "🧪 View experiment at: http://mlflow.ml.brain.cs.ait.ac.th/#/experiments/962603110232627547\n",
      "\n",
      "(34/48) Logging run: 'run_34_lr=0.01_lambda=0.001_bs=32'\n",
      "-> Accuracy: 0.7497, Precision: 0.7538, Recall: 0.7497, F1: 0.7514\n"
     ]
    },
    {
     "name": "stderr",
     "output_type": "stream",
     "text": [
      "2025/10/04 13:05:00 WARNING mlflow.models.model: `artifact_path` is deprecated. Please use `name` instead.\n",
      "\u001b[31m2025/10/04 13:05:03 WARNING mlflow.models.model: Model logged without a signature and input example. Please set `input_example` parameter when logging the model to auto infer the model signature.\u001b[0m\n"
     ]
    },
    {
     "name": "stdout",
     "output_type": "stream",
     "text": [
      "🏃 View run run_34_lr=0.01_lambda=0.001_bs=32 at: http://mlflow.ml.brain.cs.ait.ac.th/#/experiments/962603110232627547/runs/0a4e1dba0b9241d2b388ae7d025491c0\n",
      "🧪 View experiment at: http://mlflow.ml.brain.cs.ait.ac.th/#/experiments/962603110232627547\n",
      "\n",
      "(35/48) Logging run: 'run_35_lr=0.01_lambda=0.001_bs=64'\n",
      "-> Accuracy: 0.7372, Precision: 0.7375, Recall: 0.7372, F1: 0.7373\n"
     ]
    },
    {
     "name": "stderr",
     "output_type": "stream",
     "text": [
      "2025/10/04 13:06:09 WARNING mlflow.models.model: `artifact_path` is deprecated. Please use `name` instead.\n",
      "\u001b[31m2025/10/04 13:06:13 WARNING mlflow.models.model: Model logged without a signature and input example. Please set `input_example` parameter when logging the model to auto infer the model signature.\u001b[0m\n"
     ]
    },
    {
     "name": "stdout",
     "output_type": "stream",
     "text": [
      "🏃 View run run_35_lr=0.01_lambda=0.001_bs=64 at: http://mlflow.ml.brain.cs.ait.ac.th/#/experiments/962603110232627547/runs/9f17359fcbc948808db96ade4eec7ec0\n",
      "🧪 View experiment at: http://mlflow.ml.brain.cs.ait.ac.th/#/experiments/962603110232627547\n",
      "\n",
      "(36/48) Logging run: 'run_36_lr=0.01_lambda=0.001_bs=128'\n",
      "-> Accuracy: 0.7260, Precision: 0.7266, Recall: 0.7260, F1: 0.7262\n"
     ]
    },
    {
     "name": "stderr",
     "output_type": "stream",
     "text": [
      "2025/10/04 13:07:19 WARNING mlflow.models.model: `artifact_path` is deprecated. Please use `name` instead.\n",
      "\u001b[31m2025/10/04 13:07:21 WARNING mlflow.models.model: Model logged without a signature and input example. Please set `input_example` parameter when logging the model to auto infer the model signature.\u001b[0m\n"
     ]
    },
    {
     "name": "stdout",
     "output_type": "stream",
     "text": [
      "🏃 View run run_36_lr=0.01_lambda=0.001_bs=128 at: http://mlflow.ml.brain.cs.ait.ac.th/#/experiments/962603110232627547/runs/c7e31d50b74348378f8c7c338dda19f1\n",
      "🧪 View experiment at: http://mlflow.ml.brain.cs.ait.ac.th/#/experiments/962603110232627547\n",
      "\n",
      "(37/48) Logging run: 'run_37_lr=0.01_lambda=0.01_bs=1'\n",
      "-> Accuracy: 0.7316, Precision: 0.7349, Recall: 0.7316, F1: 0.7311\n"
     ]
    },
    {
     "name": "stderr",
     "output_type": "stream",
     "text": [
      "2025/10/04 13:08:36 WARNING mlflow.models.model: `artifact_path` is deprecated. Please use `name` instead.\n",
      "\u001b[31m2025/10/04 13:08:39 WARNING mlflow.models.model: Model logged without a signature and input example. Please set `input_example` parameter when logging the model to auto infer the model signature.\u001b[0m\n"
     ]
    },
    {
     "name": "stdout",
     "output_type": "stream",
     "text": [
      "🏃 View run run_37_lr=0.01_lambda=0.01_bs=1 at: http://mlflow.ml.brain.cs.ait.ac.th/#/experiments/962603110232627547/runs/59399c8268fd411bbfdabd9bc463c4dd\n",
      "🧪 View experiment at: http://mlflow.ml.brain.cs.ait.ac.th/#/experiments/962603110232627547\n",
      "\n",
      "(38/48) Logging run: 'run_38_lr=0.01_lambda=0.01_bs=32'\n",
      "-> Accuracy: 0.7472, Precision: 0.7504, Recall: 0.7472, F1: 0.7486\n"
     ]
    },
    {
     "name": "stderr",
     "output_type": "stream",
     "text": [
      "2025/10/04 13:09:45 WARNING mlflow.models.model: `artifact_path` is deprecated. Please use `name` instead.\n",
      "\u001b[31m2025/10/04 13:09:47 WARNING mlflow.models.model: Model logged without a signature and input example. Please set `input_example` parameter when logging the model to auto infer the model signature.\u001b[0m\n"
     ]
    },
    {
     "name": "stdout",
     "output_type": "stream",
     "text": [
      "🏃 View run run_38_lr=0.01_lambda=0.01_bs=32 at: http://mlflow.ml.brain.cs.ait.ac.th/#/experiments/962603110232627547/runs/f538f5ed7d5545ddb6909bf51a2c2236\n",
      "🧪 View experiment at: http://mlflow.ml.brain.cs.ait.ac.th/#/experiments/962603110232627547\n",
      "\n",
      "(39/48) Logging run: 'run_39_lr=0.01_lambda=0.01_bs=64'\n",
      "-> Accuracy: 0.7379, Precision: 0.7381, Recall: 0.7379, F1: 0.7379\n"
     ]
    },
    {
     "name": "stderr",
     "output_type": "stream",
     "text": [
      "2025/10/04 13:10:53 WARNING mlflow.models.model: `artifact_path` is deprecated. Please use `name` instead.\n",
      "\u001b[31m2025/10/04 13:10:56 WARNING mlflow.models.model: Model logged without a signature and input example. Please set `input_example` parameter when logging the model to auto infer the model signature.\u001b[0m\n"
     ]
    },
    {
     "name": "stdout",
     "output_type": "stream",
     "text": [
      "🏃 View run run_39_lr=0.01_lambda=0.01_bs=64 at: http://mlflow.ml.brain.cs.ait.ac.th/#/experiments/962603110232627547/runs/67c325b911c84e458731692c1e6a4b76\n",
      "🧪 View experiment at: http://mlflow.ml.brain.cs.ait.ac.th/#/experiments/962603110232627547\n",
      "\n",
      "(40/48) Logging run: 'run_40_lr=0.01_lambda=0.01_bs=128'\n",
      "-> Accuracy: 0.7267, Precision: 0.7272, Recall: 0.7267, F1: 0.7269\n"
     ]
    },
    {
     "name": "stderr",
     "output_type": "stream",
     "text": [
      "2025/10/04 13:12:02 WARNING mlflow.models.model: `artifact_path` is deprecated. Please use `name` instead.\n",
      "\u001b[31m2025/10/04 13:12:05 WARNING mlflow.models.model: Model logged without a signature and input example. Please set `input_example` parameter when logging the model to auto infer the model signature.\u001b[0m\n"
     ]
    },
    {
     "name": "stdout",
     "output_type": "stream",
     "text": [
      "🏃 View run run_40_lr=0.01_lambda=0.01_bs=128 at: http://mlflow.ml.brain.cs.ait.ac.th/#/experiments/962603110232627547/runs/db713c13eba94f419851d909bb67b2c5\n",
      "🧪 View experiment at: http://mlflow.ml.brain.cs.ait.ac.th/#/experiments/962603110232627547\n",
      "\n",
      "(41/48) Logging run: 'run_41_lr=0.01_lambda=0.1_bs=1'\n",
      "-> Accuracy: 0.6482, Precision: 0.6441, Recall: 0.6482, F1: 0.6262\n"
     ]
    },
    {
     "name": "stderr",
     "output_type": "stream",
     "text": [
      "2025/10/04 13:13:19 WARNING mlflow.models.model: `artifact_path` is deprecated. Please use `name` instead.\n",
      "\u001b[31m2025/10/04 13:13:22 WARNING mlflow.models.model: Model logged without a signature and input example. Please set `input_example` parameter when logging the model to auto infer the model signature.\u001b[0m\n"
     ]
    },
    {
     "name": "stdout",
     "output_type": "stream",
     "text": [
      "🏃 View run run_41_lr=0.01_lambda=0.1_bs=1 at: http://mlflow.ml.brain.cs.ait.ac.th/#/experiments/962603110232627547/runs/4a40d8e1d18d423c853580e0297efaee\n",
      "🧪 View experiment at: http://mlflow.ml.brain.cs.ait.ac.th/#/experiments/962603110232627547\n",
      "\n",
      "(42/48) Logging run: 'run_42_lr=0.01_lambda=0.1_bs=32'\n",
      "-> Accuracy: 0.7466, Precision: 0.7488, Recall: 0.7466, F1: 0.7476\n"
     ]
    },
    {
     "name": "stderr",
     "output_type": "stream",
     "text": [
      "2025/10/04 13:14:27 WARNING mlflow.models.model: `artifact_path` is deprecated. Please use `name` instead.\n",
      "\u001b[31m2025/10/04 13:14:30 WARNING mlflow.models.model: Model logged without a signature and input example. Please set `input_example` parameter when logging the model to auto infer the model signature.\u001b[0m\n"
     ]
    },
    {
     "name": "stdout",
     "output_type": "stream",
     "text": [
      "🏃 View run run_42_lr=0.01_lambda=0.1_bs=32 at: http://mlflow.ml.brain.cs.ait.ac.th/#/experiments/962603110232627547/runs/6bd3be7602f74580b9a8ed91a231d396\n",
      "🧪 View experiment at: http://mlflow.ml.brain.cs.ait.ac.th/#/experiments/962603110232627547\n",
      "\n",
      "(43/48) Logging run: 'run_43_lr=0.01_lambda=0.1_bs=64'\n",
      "-> Accuracy: 0.7366, Precision: 0.7369, Recall: 0.7366, F1: 0.7367\n"
     ]
    },
    {
     "name": "stderr",
     "output_type": "stream",
     "text": [
      "2025/10/04 13:15:36 WARNING mlflow.models.model: `artifact_path` is deprecated. Please use `name` instead.\n",
      "\u001b[31m2025/10/04 13:15:39 WARNING mlflow.models.model: Model logged without a signature and input example. Please set `input_example` parameter when logging the model to auto infer the model signature.\u001b[0m\n"
     ]
    },
    {
     "name": "stdout",
     "output_type": "stream",
     "text": [
      "🏃 View run run_43_lr=0.01_lambda=0.1_bs=64 at: http://mlflow.ml.brain.cs.ait.ac.th/#/experiments/962603110232627547/runs/9181a51395264056a0fcf35d298686ad\n",
      "🧪 View experiment at: http://mlflow.ml.brain.cs.ait.ac.th/#/experiments/962603110232627547\n",
      "\n",
      "(44/48) Logging run: 'run_44_lr=0.01_lambda=0.1_bs=128'\n",
      "-> Accuracy: 0.7254, Precision: 0.7260, Recall: 0.7254, F1: 0.7256\n"
     ]
    },
    {
     "name": "stderr",
     "output_type": "stream",
     "text": [
      "2025/10/04 13:16:44 WARNING mlflow.models.model: `artifact_path` is deprecated. Please use `name` instead.\n",
      "\u001b[31m2025/10/04 13:16:47 WARNING mlflow.models.model: Model logged without a signature and input example. Please set `input_example` parameter when logging the model to auto infer the model signature.\u001b[0m\n"
     ]
    },
    {
     "name": "stdout",
     "output_type": "stream",
     "text": [
      "🏃 View run run_44_lr=0.01_lambda=0.1_bs=128 at: http://mlflow.ml.brain.cs.ait.ac.th/#/experiments/962603110232627547/runs/640ea4707b0b4ecf897b237af37ab520\n",
      "🧪 View experiment at: http://mlflow.ml.brain.cs.ait.ac.th/#/experiments/962603110232627547\n",
      "\n",
      "(45/48) Logging run: 'run_45_lr=0.01_lambda=1.0_bs=1'\n",
      "-> Accuracy: 0.5311, Precision: 0.5173, Recall: 0.5311, F1: 0.4907\n"
     ]
    },
    {
     "name": "stderr",
     "output_type": "stream",
     "text": [
      "2025/10/04 13:18:00 WARNING mlflow.models.model: `artifact_path` is deprecated. Please use `name` instead.\n",
      "\u001b[31m2025/10/04 13:18:03 WARNING mlflow.models.model: Model logged without a signature and input example. Please set `input_example` parameter when logging the model to auto infer the model signature.\u001b[0m\n"
     ]
    },
    {
     "name": "stdout",
     "output_type": "stream",
     "text": [
      "🏃 View run run_45_lr=0.01_lambda=1.0_bs=1 at: http://mlflow.ml.brain.cs.ait.ac.th/#/experiments/962603110232627547/runs/819b0ad2441841fc97b6ce8a1825ddc0\n",
      "🧪 View experiment at: http://mlflow.ml.brain.cs.ait.ac.th/#/experiments/962603110232627547\n",
      "\n",
      "(46/48) Logging run: 'run_46_lr=0.01_lambda=1.0_bs=32'\n",
      "-> Accuracy: 0.7229, Precision: 0.7222, Recall: 0.7229, F1: 0.7224\n"
     ]
    },
    {
     "name": "stderr",
     "output_type": "stream",
     "text": [
      "2025/10/04 13:19:09 WARNING mlflow.models.model: `artifact_path` is deprecated. Please use `name` instead.\n",
      "\u001b[31m2025/10/04 13:19:12 WARNING mlflow.models.model: Model logged without a signature and input example. Please set `input_example` parameter when logging the model to auto infer the model signature.\u001b[0m\n"
     ]
    },
    {
     "name": "stdout",
     "output_type": "stream",
     "text": [
      "🏃 View run run_46_lr=0.01_lambda=1.0_bs=32 at: http://mlflow.ml.brain.cs.ait.ac.th/#/experiments/962603110232627547/runs/7958d302691147c69b1ad14cd6b413b6\n",
      "🧪 View experiment at: http://mlflow.ml.brain.cs.ait.ac.th/#/experiments/962603110232627547\n",
      "\n",
      "(47/48) Logging run: 'run_47_lr=0.01_lambda=1.0_bs=64'\n",
      "-> Accuracy: 0.7329, Precision: 0.7325, Recall: 0.7329, F1: 0.7326\n"
     ]
    },
    {
     "name": "stderr",
     "output_type": "stream",
     "text": [
      "2025/10/04 13:20:17 WARNING mlflow.models.model: `artifact_path` is deprecated. Please use `name` instead.\n",
      "\u001b[31m2025/10/04 13:20:20 WARNING mlflow.models.model: Model logged without a signature and input example. Please set `input_example` parameter when logging the model to auto infer the model signature.\u001b[0m\n"
     ]
    },
    {
     "name": "stdout",
     "output_type": "stream",
     "text": [
      "🏃 View run run_47_lr=0.01_lambda=1.0_bs=64 at: http://mlflow.ml.brain.cs.ait.ac.th/#/experiments/962603110232627547/runs/52c0eae923c547e5997579cd40a38243\n",
      "🧪 View experiment at: http://mlflow.ml.brain.cs.ait.ac.th/#/experiments/962603110232627547\n",
      "\n",
      "(48/48) Logging run: 'run_48_lr=0.01_lambda=1.0_bs=128'\n",
      "-> Accuracy: 0.7235, Precision: 0.7224, Recall: 0.7235, F1: 0.7228\n"
     ]
    },
    {
     "name": "stderr",
     "output_type": "stream",
     "text": [
      "2025/10/04 13:21:26 WARNING mlflow.models.model: `artifact_path` is deprecated. Please use `name` instead.\n",
      "\u001b[31m2025/10/04 13:21:29 WARNING mlflow.models.model: Model logged without a signature and input example. Please set `input_example` parameter when logging the model to auto infer the model signature.\u001b[0m\n"
     ]
    },
    {
     "name": "stdout",
     "output_type": "stream",
     "text": [
      "🏃 View run run_48_lr=0.01_lambda=1.0_bs=128 at: http://mlflow.ml.brain.cs.ait.ac.th/#/experiments/962603110232627547/runs/16d04fc1f66b4232bd506b19beb79663\n",
      "🧪 View experiment at: http://mlflow.ml.brain.cs.ait.ac.th/#/experiments/962603110232627547\n",
      "\n",
      "--- Grid Search finished in 3521.40 seconds ---\n"
     ]
    }
   ],
   "source": [
    "import os\n",
    "import mlflow\n",
    "import time\n",
    "from sklearn.pipeline import Pipeline\n",
    "from sklearn.metrics import f1_score, accuracy_score\n",
    "\n",
    "\n",
    "# --- 1. SET MLFLOW CREDENTIALS ---\n",
    "os.environ['MLFLOW_TRACKING_USERNAME'] = 'admin'\n",
    "os.environ['MLFLOW_TRACKING_PASSWORD'] = 'password'\n",
    "mlflow.set_tracking_uri(\"http://mlflow.ml.brain.cs.ait.ac.th/\")\n",
    "# Using a new experiment name to keep results clean\n",
    "mlflow.set_experiment(\"st126055-a3\") \n",
    "\n",
    "# --- 2. DEFINE HYPERPARAMETER GRID ---\n",
    "# We use the 'classifier__' prefix to tell the pipeline which step to apply the parameter to.\n",
    "param_grid = {\n",
    "    'classifier__learning_rate': [0.1, 0.05],\n",
    "    'classifier__lmbda': [0.01, 0.1],\n",
    "    'classifier__batch_size': [32, 64]\n",
    "}\n",
    "\n",
    "# This is just an example grid. We will use scikit-learn's GridSearchCV to run it.\n",
    "from sklearn.model_selection import GridSearchCV\n",
    "\n",
    "# --- 3. CREATE THE UNIFIED PIPELINE ---\n",
    "# We use the new LogisticRegression class directly without any wrapper.\n",
    "full_pipeline = Pipeline([\n",
    "    ('preprocessor', preproc),\n",
    "    ('classifier', LogisticRegression(n_iterations=101)) # We set a fixed number of iterations here\n",
    "])\n",
    "\n",
    "print(\"--- Starting GridSearchCV to find the best pipeline ---\")\n",
    "\n",
    "# --- 4. SETUP AND RUN GridSearchCV ---\n",
    "# This is a more standard and efficient way to run a grid search.\n",
    "grid_search = GridSearchCV(full_pipeline, param_grid, cv=3, scoring='accuracy', verbose=2)\n",
    "grid_search.fit(X_train, y_train)\n",
    "\n",
    "# --- 5. LOG THE BEST MODEL AND ITS RESULTS TO MLFLOW ---\n",
    "print(\"\\n--- Grid Search finished. Logging the BEST model to MLflow ---\")\n",
    "\n",
    "with mlflow.start_run(run_name=\"best_unified_pipeline_model\"):\n",
    "    \n",
    "    # Log the best parameters found by GridSearchCV\n",
    "    best_params = grid_search.best_params_\n",
    "    print(f\"Best parameters found: {best_params}\")\n",
    "    mlflow.log_params({k.split('__')[1]: v for k, v in best_params.items()})\n",
    "\n",
    "    # Get the best model itself\n",
    "    best_model = grid_search.best_estimator_\n",
    "    \n",
    "    # Evaluate the best model on the test set\n",
    "    predictions = best_model.predict(X_test)\n",
    "    accuracy = accuracy_score(y_test, predictions)\n",
    "    f1 = f1_score(y_test, predictions, average='weighted')\n",
    "    \n",
    "    print(f\"Test Set Performance -> Accuracy: {accuracy:.4f}, F1 Score: {f1:.4f}\")\n",
    "    mlflow.log_metric(\"accuracy\", accuracy)\n",
    "    mlflow.log_metric(\"f1_score_weighted\", f1)\n",
    "\n",
    "    # --- 6. LOG THE ENTIRE BEST PIPELINE ---\n",
    "    # This is the most important step. It will now work correctly.\n",
    "    mlflow.sklearn.log_model(\n",
    "        sk_model=best_model,\n",
    "        artifact_path=\"model\",\n",
    "        input_example=X_train.head(1) # Helps MLflow create a signature\n",
    "    )\n",
    "    \n",
    "    print(\"\\n✅ Best model has been logged to MLflow successfully!\")\n",
    "    print(\"--> You can now go to the MLflow UI, find this run, and register the model.\")"
   ]
  },
  {
   "cell_type": "markdown",
   "id": "1785b9d3",
   "metadata": {},
   "source": [
    "##### Identifying and Registering the Best Model\n",
    "\n",
    "After conducting a comprehensive **grid search of 48 different hyperparameter combinations**, the results from MLflow were analyzed to identify the best-performing model.\n",
    "\n",
    "The optimal model was determined the following hyperparameters:\n",
    "* **Learning Rate (`lr`)**: 0.1\n",
    "* **Lambda (`lambda`)**: 0.01\n",
    "* **Batch Size (`bs`)**: 32\n",
    "\n",
    "This model achieved the highest performance metrics during the experiment. Following this, the model from this run was packaged and formally **registered in the MLflow Model Registry** to version it and prepare it for the next stages of deployment."
   ]
  },
  {
   "cell_type": "markdown",
   "id": "dab798bc",
   "metadata": {},
   "source": [
    "Objective 1: Log experiment on the server."
   ]
  },
  {
   "cell_type": "markdown",
   "id": "5eacb694",
   "metadata": {},
   "source": [
    "![MLflow runs list](Picture/Object1_MLFLOW.png)  \n",
    "Figure 1: A screenshot of the MLflow UI showing the experiment st126055-a3 and the registered model st126055-a3-model."
   ]
  },
  {
   "cell_type": "markdown",
   "id": "b124a30b",
   "metadata": {},
   "source": [
    "Objective 2: Deploy the Model."
   ]
  },
  {
   "cell_type": "markdown",
   "id": "639375c9",
   "metadata": {},
   "source": [
    "![MLflow runs list](Picture/Object2_register.png)  \n",
    "*Figure 2: Register Model which i decide to use lastest model which is version 7"
   ]
  },
  {
   "cell_type": "markdown",
   "id": "e867a0fc",
   "metadata": {},
   "source": [
    "Objective 3: CI/CD."
   ]
  },
  {
   "cell_type": "markdown",
   "id": "16b0bbd5",
   "metadata": {},
   "source": [
    "![MLflow runs list](Picture/Object3_Test_Deploy.png)  \n",
    "A screenshot of the GitHub Actions workflow for car-prediction-final-st126055, showing the successful test, deploy_docker, and promote_mlflow jobs triggered on a push event."
   ]
  },
  {
   "cell_type": "markdown",
   "id": "6aa5501b",
   "metadata": {},
   "source": [
    "# 🚗 A3: Car Price Prediction (Classification) with MLOps\n",
    "\n",
    "**Student ID:** st126055  \n",
    "**Student Name:** Supanut Kompayak  \n",
    "\n",
    "\n",
    "## 🧰 Prerequisites\n",
    "\n",
    "- **Docker Desktop** installed and running  \n",
    "- **Git** for cloning the repository  \n",
    "\n",
    "---\n",
    "\n",
    "## ⚙️ How to Run the Application\n",
    "\n",
    "### 1️⃣ Clone the Repository\n",
    "```bash\n",
    "git clone https://github.com/gossbu666/car-prediction-final-st126055.git\n",
    "cd car-prediction-final-st126055"
   ]
  },
  {
   "cell_type": "markdown",
   "id": "bf8c0d9d",
   "metadata": {},
   "source": [
    "# Github"
   ]
  },
  {
   "cell_type": "markdown",
   "id": "da73c610",
   "metadata": {},
   "source": [
    "- https://github.com/gossbu666/car-prediction-final-st126055"
   ]
  }
 ],
 "metadata": {
  "kernelspec": {
   "display_name": "Python (AIT)",
   "language": "python",
   "name": "ait"
  },
  "language_info": {
   "codemirror_mode": {
    "name": "ipython",
    "version": 3
   },
   "file_extension": ".py",
   "mimetype": "text/x-python",
   "name": "python",
   "nbconvert_exporter": "python",
   "pygments_lexer": "ipython3",
   "version": "3.12.11"
  }
 },
 "nbformat": 4,
 "nbformat_minor": 5
}
